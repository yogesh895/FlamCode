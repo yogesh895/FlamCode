{
 "cells": [
  {
   "cell_type": "code",
   "execution_count": 19,
   "metadata": {},
   "outputs": [],
   "source": [
    "import numpy as np\n",
    "import imutils\n",
    "import cv2\n",
    "import matplotlib.pyplot as plt\n",
    "from imutils.object_detection import non_max_suppression"
   ]
  },
  {
   "cell_type": "code",
   "execution_count": 20,
   "metadata": {},
   "outputs": [],
   "source": [
    "img = cv2.imread(\"punchline.png\")\n",
    "\n",
    "template = cv2.imread(\"template.png\")"
   ]
  },
  {
   "cell_type": "code",
   "execution_count": 21,
   "metadata": {},
   "outputs": [
    {
     "data": {
      "text/plain": [
       "<matplotlib.image.AxesImage at 0x7febc010cbe0>"
      ]
     },
     "execution_count": 21,
     "metadata": {},
     "output_type": "execute_result"
    },
    {
     "data": {
      "image/png": "[encoded data removed]",
      "text/plain": [
       "<Figure size 432x288 with 1 Axes>"
      ]
     },
     "metadata": {
      "needs_background": "light"
     },
     "output_type": "display_data"
    }
   ],
   "source": [
    "template = cv2.cvtColor(template, cv2.COLOR_BGR2GRAY)\n",
    "template = cv2.blur(template,(2,2))\n",
    "template = cv2.Canny(template, 50, 200)\n",
    "template = imutils.resize(template, width = int(template.shape[1] * 0.5))\n",
    "(tH, tW) = template.shape[:2]\n",
    "plt.imshow(template,cmap=\"gray\")"
   ]
  },
  {
   "cell_type": "code",
   "execution_count": 22,
   "metadata": {},
   "outputs": [],
   "source": [
    "rects = []\n",
    "def multiscale_template_match(image, template):\n",
    "    gray = cv2.cvtColor(image, cv2.COLOR_BGR2GRAY)\n",
    "    gray = cv2.blur(gray,(3,3))\n",
    "    gray = cv2.Canny(gray,50,200)\n",
    "    \n",
    "    found = None\n",
    "    for scale in np.linspace(0.2, 1, 20)[::-1]:\n",
    "        resized = imutils.resize(gray, width = int(gray.shape[1] * scale))\n",
    "        r = gray.shape[1] / float(resized.shape[1])\n",
    "        # if the resized image is smaller than the template, then break\n",
    "        # from the loop\n",
    "        if resized.shape[0] < tH or resized.shape[1] < tW:\n",
    "            break\n",
    "        edged = cv2.Canny(resized, 50, 200)\n",
    "        result = cv2.matchTemplate(edged, template, cv2.TM_CCOEFF)\n",
    "        (_, maxVal, _, maxLoc) = cv2.minMaxLoc(result)\n",
    "        if found is None or maxVal > found[0]:\n",
    "            found = (maxVal, maxLoc, r)\n",
    "\n",
    "    (_, maxLoc, r) = found\n",
    "    (startX, startY) = (int(maxLoc[0] * r), int(maxLoc[1] * r))\n",
    "    (endX, endY) = (int((maxLoc[0] + tW) * r), int((maxLoc[1] + tH) * r))\n",
    "    rects.append((startX, startY, endX, endY))\n",
    "    \n",
    "    cv2.rectangle(image, (startX, startY), (endX, endY), (0, 0, 255), -1)\n",
    "    # plt.figure()\n",
    "    # plt.imshow(image)\n",
    "    if found is not None:\n",
    "        return True,clone\n",
    "    else: return False,clone"
   ]
  },
  {
   "cell_type": "code",
   "execution_count": 23,
   "metadata": {},
   "outputs": [],
   "source": [
    "clone = img.copy()\n",
    "clone2 = img.copy()\n",
    "# bool = True\n",
    "# while(True):\n",
    "#   bool = multiscale_template_match(clone,template)\n",
    "#   print(bool)\n",
    "#   if bool:\n",
    "#     break\n",
    "multiscale_template_match(clone,template)\n",
    "multiscale_template_match(clone,template)\n",
    "multiscale_template_match(clone,template)\n",
    "multiscale_template_match(clone,template)\n",
    "multiscale_template_match(clone,template)\n",
    "multiscale_template_match(clone,template)\n",
    "multiscale_template_match(clone,template)\n",
    "multiscale_template_match(clone,template)\n",
    "multiscale_template_match(clone,template)\n",
    "\n",
    "pick = non_max_suppression(np.array(rects))\n",
    "for (startX, startY, endX, endY) in pick:\n",
    "    cv2.rectangle(clone2, (startX, startY), (endX, endY),(0, 0, 255),5)\n",
    "\t\t\n",
    "\n"
   ]
  },
  {
   "cell_type": "code",
   "execution_count": 24,
   "metadata": {},
   "outputs": [
    {
     "data": {
      "text/plain": [
       "<matplotlib.image.AxesImage at 0x7febc007b610>"
      ]
     },
     "execution_count": 24,
     "metadata": {},
     "output_type": "execute_result"
    },
    {
     "data": {
      "image/png": "[encoded data removed]",
      "text/plain": [
       "<Figure size 432x288 with 1 Axes>"
      ]
     },
     "metadata": {
      "needs_background": "light"
     },
     "output_type": "display_data"
    }
   ],
   "source": [
    "plt.imshow(clone2)"
   ]
  }
 ],
 "metadata": {
  "interpreter": {
   "hash": "916dbcbb3f70747c44a77c7bcd40155683ae19c65e1c03b4aa3499c5328201f1"
  },
  "kernelspec": {
   "display_name": "Python 3.8.5 64-bit",
   "language": "python",
   "name": "python3"
  },
  "language_info": {
   "codemirror_mode": {
    "name": "ipython",
    "version": 3
   },
   "file_extension": ".py",
   "mimetype": "text/x-python",
   "name": "python",
   "nbconvert_exporter": "python",
   "pygments_lexer": "ipython3",
   "version": "3.9.7"
  },
  "orig_nbformat": 4
 },
 "nbformat": 4,
 "nbformat_minor": 2
}
